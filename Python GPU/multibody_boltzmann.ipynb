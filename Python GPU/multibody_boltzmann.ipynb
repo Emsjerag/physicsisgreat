{
 "cells": [
  {
   "cell_type": "code",
   "execution_count": 1,
   "metadata": {},
   "outputs": [],
   "source": [
    "import torch\n",
    "import os\n",
    "import numpy as np\n",
    "import matplotlib.pyplot as plt\n",
    "import matplotlib\n",
    "from matplotlib import animation\n",
    "from matplotlib.animation import PillowWriter\n",
    "import scienceplots\n",
    "plt.style.use(['science', 'notebook'])\n",
    "device = torch.device('cuda' if torch.cuda.is_available() else 'cpu')"
   ]
  },
  {
   "cell_type": "markdown",
   "metadata": {},
   "source": [
    "Define number of particles and get random positions (between 0 and 1) for each particle"
   ]
  },
  {
   "cell_type": "code",
   "execution_count": 2,
   "metadata": {},
   "outputs": [],
   "source": [
    "n_particles = 16\n",
    "r = torch.rand((2,n_particles)).to(device)"
   ]
  },
  {
   "cell_type": "code",
   "execution_count": 3,
   "metadata": {},
   "outputs": [],
   "source": [
    "n_particles = 16\n",
    "r = torch.rand((2,n_particles)).to(device)\n",
    "# Color particles the start on either side\n",
    "ixr = r[0]>0.5 #right\n",
    "ixl = r[0]<=0.5 #left"
   ]
  },
  {
   "cell_type": "markdown",
   "metadata": {},
   "source": [
    "Give IDs to each particle (this will come in handy later)"
   ]
  },
  {
   "cell_type": "code",
   "execution_count": 4,
   "metadata": {},
   "outputs": [],
   "source": [
    "ids = torch.arange(n_particles)"
   ]
  },
  {
   "cell_type": "code",
   "execution_count": 5,
   "metadata": {},
   "outputs": [
    {
     "data": {
      "text/plain": [
       "tensor([ 0,  1,  2,  3,  4,  5,  6,  7,  8,  9, 10, 11, 12, 13, 14, 15])"
      ]
     },
     "execution_count": 5,
     "metadata": {},
     "output_type": "execute_result"
    }
   ],
   "source": [
    "ids"
   ]
  },
  {
   "cell_type": "markdown",
   "metadata": {},
   "source": [
    "Plot initial configuration of particles"
   ]
  },
  {
   "cell_type": "code",
   "execution_count": 6,
   "metadata": {},
   "outputs": [
    {
     "data": {
      "text/plain": [
       "<matplotlib.collections.PathCollection at 0x1bf6055c670>"
      ]
     },
     "execution_count": 6,
     "metadata": {},
     "output_type": "execute_result"
    },
    {
     "data": {
      "image/png": "[encoded data removed]",
      "text/plain": [
       "<Figure size 500x500 with 1 Axes>"
      ]
     },
     "metadata": {},
     "output_type": "display_data"
    }
   ],
   "source": [
    "plt.figure(figsize=(5,5))\n",
    "plt.scatter(r[0][ixr].cpu(),r[1][ixr].cpu(), color='r', s=6)\n",
    "plt.scatter(r[0][ixl].cpu(),r[1][ixl].cpu(), color='b', s=6)"
   ]
  },
  {
   "cell_type": "markdown",
   "metadata": {},
   "source": [
    "Obtain the initial velocities in the gas. We'll make the particles starting on the RHS move to the left at 500m/s and on the vice versa.\n",
    "\n",
    "* **Note**: We're using the assumption that particles in a gas move at approximately 500m/s, thanks google."
   ]
  },
  {
   "cell_type": "code",
   "execution_count": 7,
   "metadata": {},
   "outputs": [],
   "source": [
    "v = torch.zeros((2,n_particles)).to(device)\n",
    "v[0][ixr] = -500\n",
    "v[0][ixl] = 500"
   ]
  },
  {
   "cell_type": "markdown",
   "metadata": {},
   "source": [
    "To run this simulation, we need to determine when two particles collide, and what the resulting final velocities will be.\n",
    "\n",
    "# Part 1: Distance Between all Pairs\n",
    "\n",
    "* To determine if two particles collide, we need to find the distance between **all pairs** of particles. If the distance is less than 2 times the radius of each particle, they collide. If there are $n$ particles, there are $n(n-1)/2$ pairs (combinatorics). To make this easier, we'll get pairs of particle IDs."
   ]
  },
  {
   "cell_type": "code",
   "execution_count": 8,
   "metadata": {},
   "outputs": [],
   "source": [
    "ids_pairs = torch.combinations(ids,2).to(device)\n",
    "#ids_pairs"
   ]
  },
  {
   "cell_type": "markdown",
   "metadata": {},
   "source": [
    "We can obtain distances between particles in a similar fashion\n",
    "\n",
    "* First get the pairs of x-positions of all particles"
   ]
  },
  {
   "cell_type": "code",
   "execution_count": 9,
   "metadata": {},
   "outputs": [
    {
     "data": {
      "text/plain": [
       "tensor([[0.0686, 0.0096],\n",
       "        [0.0686, 0.1090],\n",
       "        [0.0686, 0.7318],\n",
       "        [0.0686, 0.2848],\n",
       "        [0.0686, 0.6931],\n",
       "        [0.0686, 0.3537],\n",
       "        [0.0686, 0.7479],\n",
       "        [0.0686, 0.1681],\n",
       "        [0.0686, 0.5387],\n",
       "        [0.0686, 0.5709],\n",
       "        [0.0686, 0.2896],\n",
       "        [0.0686, 0.6881],\n",
       "        [0.0686, 0.3468],\n",
       "        [0.0686, 0.2368],\n",
       "        [0.0686, 0.4103],\n",
       "        [0.0096, 0.1090],\n",
       "        [0.0096, 0.7318],\n",
       "        [0.0096, 0.2848],\n",
       "        [0.0096, 0.6931],\n",
       "        [0.0096, 0.3537],\n",
       "        [0.0096, 0.7479],\n",
       "        [0.0096, 0.1681],\n",
       "        [0.0096, 0.5387],\n",
       "        [0.0096, 0.5709],\n",
       "        [0.0096, 0.2896],\n",
       "        [0.0096, 0.6881],\n",
       "        [0.0096, 0.3468],\n",
       "        [0.0096, 0.2368],\n",
       "        [0.0096, 0.4103],\n",
       "        [0.1090, 0.7318],\n",
       "        [0.1090, 0.2848],\n",
       "        [0.1090, 0.6931],\n",
       "        [0.1090, 0.3537],\n",
       "        [0.1090, 0.7479],\n",
       "        [0.1090, 0.1681],\n",
       "        [0.1090, 0.5387],\n",
       "        [0.1090, 0.5709],\n",
       "        [0.1090, 0.2896],\n",
       "        [0.1090, 0.6881],\n",
       "        [0.1090, 0.3468],\n",
       "        [0.1090, 0.2368],\n",
       "        [0.1090, 0.4103],\n",
       "        [0.7318, 0.2848],\n",
       "        [0.7318, 0.6931],\n",
       "        [0.7318, 0.3537],\n",
       "        [0.7318, 0.7479],\n",
       "        [0.7318, 0.1681],\n",
       "        [0.7318, 0.5387],\n",
       "        [0.7318, 0.5709],\n",
       "        [0.7318, 0.2896],\n",
       "        [0.7318, 0.6881],\n",
       "        [0.7318, 0.3468],\n",
       "        [0.7318, 0.2368],\n",
       "        [0.7318, 0.4103],\n",
       "        [0.2848, 0.6931],\n",
       "        [0.2848, 0.3537],\n",
       "        [0.2848, 0.7479],\n",
       "        [0.2848, 0.1681],\n",
       "        [0.2848, 0.5387],\n",
       "        [0.2848, 0.5709],\n",
       "        [0.2848, 0.2896],\n",
       "        [0.2848, 0.6881],\n",
       "        [0.2848, 0.3468],\n",
       "        [0.2848, 0.2368],\n",
       "        [0.2848, 0.4103],\n",
       "        [0.6931, 0.3537],\n",
       "        [0.6931, 0.7479],\n",
       "        [0.6931, 0.1681],\n",
       "        [0.6931, 0.5387],\n",
       "        [0.6931, 0.5709],\n",
       "        [0.6931, 0.2896],\n",
       "        [0.6931, 0.6881],\n",
       "        [0.6931, 0.3468],\n",
       "        [0.6931, 0.2368],\n",
       "        [0.6931, 0.4103],\n",
       "        [0.3537, 0.7479],\n",
       "        [0.3537, 0.1681],\n",
       "        [0.3537, 0.5387],\n",
       "        [0.3537, 0.5709],\n",
       "        [0.3537, 0.2896],\n",
       "        [0.3537, 0.6881],\n",
       "        [0.3537, 0.3468],\n",
       "        [0.3537, 0.2368],\n",
       "        [0.3537, 0.4103],\n",
       "        [0.7479, 0.1681],\n",
       "        [0.7479, 0.5387],\n",
       "        [0.7479, 0.5709],\n",
       "        [0.7479, 0.2896],\n",
       "        [0.7479, 0.6881],\n",
       "        [0.7479, 0.3468],\n",
       "        [0.7479, 0.2368],\n",
       "        [0.7479, 0.4103],\n",
       "        [0.1681, 0.5387],\n",
       "        [0.1681, 0.5709],\n",
       "        [0.1681, 0.2896],\n",
       "        [0.1681, 0.6881],\n",
       "        [0.1681, 0.3468],\n",
       "        [0.1681, 0.2368],\n",
       "        [0.1681, 0.4103],\n",
       "        [0.5387, 0.5709],\n",
       "        [0.5387, 0.2896],\n",
       "        [0.5387, 0.6881],\n",
       "        [0.5387, 0.3468],\n",
       "        [0.5387, 0.2368],\n",
       "        [0.5387, 0.4103],\n",
       "        [0.5709, 0.2896],\n",
       "        [0.5709, 0.6881],\n",
       "        [0.5709, 0.3468],\n",
       "        [0.5709, 0.2368],\n",
       "        [0.5709, 0.4103],\n",
       "        [0.2896, 0.6881],\n",
       "        [0.2896, 0.3468],\n",
       "        [0.2896, 0.2368],\n",
       "        [0.2896, 0.4103],\n",
       "        [0.6881, 0.3468],\n",
       "        [0.6881, 0.2368],\n",
       "        [0.6881, 0.4103],\n",
       "        [0.3468, 0.2368],\n",
       "        [0.3468, 0.4103],\n",
       "        [0.2368, 0.4103]], device='cuda:0')"
      ]
     },
     "execution_count": 9,
     "metadata": {},
     "output_type": "execute_result"
    }
   ],
   "source": [
    "x_pairs = torch.combinations(r[0],2).to(device)\n",
    "x_pairs"
   ]
  },
  {
   "cell_type": "markdown",
   "metadata": {},
   "source": [
    "* Then take the difference to get $\\Delta x_{ij}$ of all pairs"
   ]
  },
  {
   "cell_type": "code",
   "execution_count": 10,
   "metadata": {},
   "outputs": [
    {
     "data": {
      "text/plain": [
       "tensor([-0.0590,  0.0403,  0.6631,  0.2162,  0.6245,  0.2850,  0.6792,  0.0995,\n",
       "         0.4700,  0.5022,  0.2209,  0.6194,  0.2781,  0.1681,  0.3417,  0.0993,\n",
       "         0.7221,  0.2752,  0.6835,  0.3440,  0.7382,  0.1585,  0.5291,  0.5612,\n",
       "         0.2799,  0.6784,  0.3371,  0.2272,  0.4007,  0.6228,  0.1759,  0.5841,\n",
       "         0.2447,  0.6389,  0.0592,  0.4297,  0.4619,  0.1806,  0.5791,  0.2378,\n",
       "         0.1278,  0.3014, -0.4469, -0.0387, -0.3781,  0.0161, -0.5636, -0.1931,\n",
       "        -0.1609, -0.4422, -0.0437, -0.3850, -0.4950, -0.3214,  0.4083,  0.0689,\n",
       "         0.4630, -0.1167,  0.2539,  0.2860,  0.0047,  0.4032,  0.0619, -0.0480,\n",
       "         0.1255, -0.3394,  0.0548, -0.5250, -0.1544, -0.1223, -0.4036, -0.0050,\n",
       "        -0.3464, -0.4563, -0.2828,  0.3942, -0.1855,  0.1850,  0.2172, -0.0641,\n",
       "         0.3344, -0.0069, -0.1169,  0.0567, -0.5797, -0.2092, -0.1770, -0.4583,\n",
       "        -0.0598, -0.4011, -0.5111, -0.3375,  0.3705,  0.4027,  0.1214,  0.5199,\n",
       "         0.1786,  0.0686,  0.2422,  0.0322, -0.2491,  0.1494, -0.1919, -0.3019,\n",
       "        -0.1284, -0.2813,  0.1172, -0.2241, -0.3341, -0.1605,  0.3985,  0.0572,\n",
       "        -0.0528,  0.1208, -0.3413, -0.4513, -0.2777, -0.1100,  0.0636,  0.1735],\n",
       "       device='cuda:0')"
      ]
     },
     "execution_count": 10,
     "metadata": {},
     "output_type": "execute_result"
    }
   ],
   "source": [
    "dx_pairs = torch.diff(x_pairs, axis=1).ravel()\n",
    "dx_pairs"
   ]
  },
  {
   "cell_type": "markdown",
   "metadata": {},
   "source": [
    "The total distance is just $d_{ij}= \\sqrt{\\Delta x_{ij}^2 + \\Delta y_{ij}^2}$. Since there are $n(n-1)/2$ pairs, there will be $n(n-1)/2$ different values of $d_{ij}$."
   ]
  },
  {
   "cell_type": "code",
   "execution_count": 11,
   "metadata": {},
   "outputs": [
    {
     "data": {
      "text/plain": [
       "tensor([0.1189, 0.2689, 0.8272, 0.2285, 0.7704, 0.4762, 0.7527, 0.3116, 0.5080,\n",
       "        0.5054, 0.2678, 0.6626, 0.4032, 0.1756, 0.3688, 0.3822, 0.8213, 0.3273,\n",
       "        0.7669, 0.4424, 0.8532, 0.4289, 0.6062, 0.5631, 0.3784, 0.6912, 0.5194,\n",
       "        0.2332, 0.4681, 0.9828, 0.2603, 0.9249, 0.6920, 0.6416, 0.0661, 0.4359,\n",
       "        0.5636, 0.2138, 0.7658, 0.2392, 0.3412, 0.3271, 0.7231, 0.0580, 0.3946,\n",
       "        0.8191, 0.9702, 0.7137, 0.4661, 0.7827, 0.2628, 0.8755, 0.6649, 0.7101,\n",
       "        0.6652, 0.4606, 0.5265, 0.2502, 0.2802, 0.3146, 0.0776, 0.5082, 0.2265,\n",
       "        0.1334, 0.1412, 0.3465, 0.7776, 0.9125, 0.6620, 0.4127, 0.7252, 0.2159,\n",
       "        0.8198, 0.6072, 0.6541, 0.8085, 0.7017, 0.6031, 0.3904, 0.5367, 0.3649,\n",
       "        0.6734, 0.3510, 0.5232, 0.5804, 0.2473, 0.4205, 0.4899, 0.5629, 0.4024,\n",
       "        0.6339, 0.3853, 0.3845, 0.5350, 0.1882, 0.7428, 0.1786, 0.3525, 0.2884,\n",
       "        0.2517, 0.2525, 0.4532, 0.2161, 0.3876, 0.1392, 0.3501, 0.2133, 0.4147,\n",
       "        0.3341, 0.2531, 0.5553, 0.1517, 0.2087, 0.1215, 0.6280, 0.4876, 0.4658,\n",
       "        0.3596, 0.1659, 0.2567], device='cuda:0')"
      ]
     },
     "execution_count": 11,
     "metadata": {},
     "output_type": "execute_result"
    }
   ],
   "source": [
    "x_pairs = torch.combinations(r[0],2).to(device)\n",
    "y_pairs = torch.combinations(r[1],2).to(device)\n",
    "dx_pairs = torch.diff(x_pairs, axis=1).ravel()\n",
    "dy_pairs = torch.diff(y_pairs, axis=1).ravel()\n",
    "d_pairs = torch.sqrt(dx_pairs**2 + dy_pairs**2)\n",
    "d_pairs"
   ]
  },
  {
   "cell_type": "markdown",
   "metadata": {},
   "source": [
    "# Part 2: Velocities of a Collision"
   ]
  },
  {
   "cell_type": "markdown",
   "metadata": {},
   "source": [
    "So at each iteration of the simulation, we will evaluate `d_pairs`, and if any of the distances between particles is less than $2r$, then a collision occurs. What is the final velocity of each of the two spheres? In an elastic collision (conservation of energy + momentum + angular momentum), one can show\n",
    "\n",
    "$$\\vec{v}_1^{\\text{new}} = \\vec{v}_1 - \\frac{(\\vec{v}_1 - \\vec{v}_2) \\cdot (\\vec{r}_1 - \\vec{r}_2)}{|\\vec{r}_1 - \\vec{r}_2|^2} (\\vec{r}_1 - \\vec{r}_2)$$\n",
    "$$\\vec{v}_2^{\\text{new}} = \\vec{v}_2 - \\frac{(\\vec{v}_2 - \\vec{v}_1) \\cdot (\\vec{r}_2 - \\vec{r}_1)}{|\\vec{r}_1 - \\vec{r}_2|^2} (\\vec{r}_2 - \\vec{r}_1)$$"
   ]
  },
  {
   "cell_type": "code",
   "execution_count": 12,
   "metadata": {},
   "outputs": [
    {
     "data": {
      "text/plain": [
       "tensor([[ 0,  1],\n",
       "        [ 2,  8],\n",
       "        [ 3,  5],\n",
       "        [ 4, 11]], device='cuda:0')"
      ]
     },
     "execution_count": 12,
     "metadata": {},
     "output_type": "execute_result"
    }
   ],
   "source": [
    "radius = 0.06\n",
    "ids_pairs_collide = ids_pairs[d_pairs < 2*radius]\n",
    "ids_pairs_collide"
   ]
  },
  {
   "cell_type": "markdown",
   "metadata": {},
   "source": [
    "We will call all the particles in the left column \"1\" and the right column \"2\""
   ]
  },
  {
   "cell_type": "code",
   "execution_count": 13,
   "metadata": {},
   "outputs": [],
   "source": [
    "v1 = v[:,ids_pairs_collide[:,0]]\n",
    "v2 = v[:,ids_pairs_collide[:,1]]\n",
    "r1 = r[:,ids_pairs_collide[:,0]]\n",
    "r2 = r[:,ids_pairs_collide[:,1]]"
   ]
  },
  {
   "cell_type": "markdown",
   "metadata": {},
   "source": [
    "Then we can compute the new velocity:"
   ]
  },
  {
   "cell_type": "code",
   "execution_count": 21,
   "metadata": {},
   "outputs": [],
   "source": [
    "v1new = v1 - torch.sum((v1-v2)*(r1-r2), axis=0)/torch.sum((r1-r2)**2, axis=0) * (r1-r2)\n",
    "v2new = v2 - torch.sum((v1-v2)*(r1-r2), axis=0)/torch.sum((r2-r1)**2, axis=0) * (r2-r1)"
   ]
  },
  {
   "cell_type": "markdown",
   "metadata": {},
   "source": [
    "# Part 3: Functions to Run the Simulation"
   ]
  },
  {
   "cell_type": "markdown",
   "metadata": {},
   "source": [
    "Here we define some functions that will help make running the simulation easier."
   ]
  },
  {
   "cell_type": "code",
   "execution_count": 22,
   "metadata": {},
   "outputs": [],
   "source": [
    "def get_deltad_pairs(r):\n",
    "    dx = torch.diff(torch.combinations(r[0],2).to(device)).squeeze()\n",
    "    dy = torch.diff(torch.combinations(r[1],2).to(device)).squeeze()\n",
    "    return torch.sqrt(dx**2 + dy**2)\n",
    "\n",
    "def compute_new_v(v1, v2, r1, r2):\n",
    "    v1new = v1 - torch.sum((v1-v2)*(r1-r2), axis=0)/torch.sum((r1-r2)**2, axis=0) * (r1-r2)\n",
    "    v2new = v2 - torch.sum((v1-v2)*(r1-r2), axis=0)/torch.sum((r2-r1)**2, axis=0) * (r2-r1)\n",
    "    return v1new, v2new\n",
    "\n",
    "def motion(r, v, id_pairs, ts, dt, d_cutoff):\n",
    "    rs = torch.zeros((ts, r.shape[0], r.shape[1])).to(device)\n",
    "    vs = torch.zeros((ts, v.shape[0], v.shape[1])).to(device)\n",
    "    # Initial State\n",
    "    rs[0] = r\n",
    "    vs[0] = v\n",
    "    for i in range(1,ts):\n",
    "        ic = id_pairs[get_deltad_pairs(r) < d_cutoff]\n",
    "        v[:,ic[:,0]], v[:,ic[:,1]] = compute_new_v(v[:,ic[:,0]], v[:,ic[:,1]], r[:,ic[:,0]], r[:,ic[:,1]])\n",
    "        \n",
    "        v[0,r[0]>1] = -torch.abs(v[0,r[0]>1])\n",
    "        v[0,r[0]<0] = torch.abs(v[0,r[0]<0])\n",
    "        v[1,r[1]>1] = -torch.abs(v[1,r[1]>1])\n",
    "        v[1,r[1]<0] = torch.abs(v[1,r[1]<0])\n",
    "        \n",
    "        r = r + v*dt\n",
    "        rs[i] = r\n",
    "        vs[i] = v\n",
    "    return rs, vs"
   ]
  },
  {
   "cell_type": "markdown",
   "metadata": {},
   "source": [
    "Set the radius and find the position of all particles as a function of time (3D array `rs` where each axis is $(t,x,y)$)."
   ]
  },
  {
   "cell_type": "code",
   "execution_count": 25,
   "metadata": {},
   "outputs": [],
   "source": [
    "radius = 0.03\n",
    "rs, vs = motion(r, v, ids_pairs, ts=1000, dt=0.000008, d_cutoff=2*radius)"
   ]
  },
  {
   "cell_type": "markdown",
   "metadata": {},
   "source": [
    "Plot red and blue circles, making sure each is the correct size."
   ]
  },
  {
   "cell_type": "code",
   "execution_count": 26,
   "metadata": {},
   "outputs": [
    {
     "data": {
      "image/png": "[encoded data removed]",
      "text/plain": [
       "<Figure size 500x500 with 1 Axes>"
      ]
     },
     "metadata": {},
     "output_type": "display_data"
    }
   ],
   "source": [
    "fig, ax = plt.subplots(1,1,figsize=(5,5))\n",
    "xred, yred = rs[0][0][ixr], rs[0][1][ixr]\n",
    "xblue, yblue = rs[0][0][ixl],rs[0][1][ixl]\n",
    "circles_red = [plt.Circle((xi, yi), radius=radius, linewidth=0) for xi,yi in zip(xred,yred)]\n",
    "circles_blue = [plt.Circle((xi, yi), radius=radius, linewidth=0) for xi,yi in zip(xblue,yblue)]\n",
    "cred = matplotlib.collections.PatchCollection(circles_red, facecolors='red')\n",
    "cblue = matplotlib.collections.PatchCollection(circles_blue, facecolors='blue')\n",
    "ax.add_collection(cred)\n",
    "ax.add_collection(cblue)\n",
    "ax.set_xlim(0,1)\n",
    "ax.set_ylim(0,1)\n",
    "plt.show()"
   ]
  },
  {
   "cell_type": "markdown",
   "metadata": {},
   "source": [
    "Make initial animation of the simulation"
   ]
  },
  {
   "cell_type": "code",
   "execution_count": 27,
   "metadata": {},
   "outputs": [
    {
     "data": {
      "image/png": "[encoded data removed]",
      "text/plain": [
       "<Figure size 500x500 with 1 Axes>"
      ]
     },
     "metadata": {},
     "output_type": "display_data"
    }
   ],
   "source": [
    "fig, ax = plt.subplots(1,1,figsize=(5,5))\n",
    "ax.clear()\n",
    "vmin = 0\n",
    "vmax = 1\n",
    "ax.set_xlim(0,1)\n",
    "ax.set_ylim(0,1)\n",
    "markersize = 2 * radius * ax.get_window_extent().width  / (vmax-vmin) * 72./fig.dpi\n",
    "red, = ax.plot([], [], 'o', color='red', markersize=markersize)\n",
    "blue, = ax.plot([], [], 'o', color='blue', markersize=markersize)\n",
    "\n",
    "def animate(i):\n",
    "    xred, yred = rs[i][0][ixr].cpu(), rs[i][1][ixr].cpu()\n",
    "    xblue, yblue = rs[i][0][ixl].cpu(),rs[i][1][ixl].cpu()\n",
    "    red.set_data(xred, yred)\n",
    "    blue.set_data(xblue, yblue)\n",
    "    return red, blue\n",
    "\n",
    "writer = animation.FFMpegWriter(fps=30)\n",
    "ani = animation.FuncAnimation(fig, animate, frames=500, interval=50, blit=True)\n",
    "ani.save('ani3.mp4',writer=writer,dpi=100)"
   ]
  },
  {
   "cell_type": "markdown",
   "metadata": {},
   "source": [
    "Now that we're sure that it works, lets make a simulation containing many more particles"
   ]
  },
  {
   "cell_type": "code",
   "execution_count": 29,
   "metadata": {},
   "outputs": [],
   "source": [
    "n_particles = 10000\n",
    "r = torch.rand((2,n_particles)).to(device)\n",
    "ixr = r[0]>0.5 \n",
    "ixl = r[0]<=0.5 \n",
    "ids = torch.arange(n_particles)\n",
    "ids_pairs = torch.combinations(ids,2).to(device)\n",
    "v = torch.zeros((2,n_particles)).to(device)\n",
    "v[0][ixr] = -500\n",
    "v[0][ixl] = 500\n",
    "radius = 0.0005\n",
    "rs, vs = motion(r, v, ids_pairs, ts=1000, dt=0.000008, d_cutoff=2*radius)"
   ]
  },
  {
   "cell_type": "markdown",
   "metadata": {},
   "source": [
    "Let's look at the final velocity distribution of the particles and compare it to Maxwell-Boltzmann in 2 Dimensions:\n",
    "\n",
    "* $kT = KE_{avg} = \\frac{1}{2}m\\bar{v^2} \\implies \\boxed{\\frac{m}{kT} = \\frac{2}{\\bar{v^2}}}$\n",
    "* $\\boxed{f(v) = \\frac{m}{kT} v \\exp\\left(-\\frac{m}{kT}\\frac{v^2}{2} \\right)}$"
   ]
  },
  {
   "cell_type": "code",
   "execution_count": 30,
   "metadata": {},
   "outputs": [],
   "source": [
    "v = np.linspace(0, 2000, 1000)\n",
    "a = 2/500**2\n",
    "fv = a*v*np.exp(-a*v**2 / 2)"
   ]
  },
  {
   "cell_type": "markdown",
   "metadata": {},
   "source": [
    "Plot the final histogram next to this curve:"
   ]
  },
  {
   "cell_type": "code",
   "execution_count": 31,
   "metadata": {},
   "outputs": [
    {
     "data": {
      "text/plain": [
       "Text(0, 0.5, '# Particles')"
      ]
     },
     "execution_count": 31,
     "metadata": {},
     "output_type": "execute_result"
    },
    {
     "data": {
      "image/png": "[encoded data removed]",
      "text/plain": [
       "<Figure size 800x600 with 1 Axes>"
      ]
     },
     "metadata": {},
     "output_type": "display_data"
    }
   ],
   "source": [
    "bins = np.linspace(0,1500,50)\n",
    "plt.figure()\n",
    "plt.hist(torch.sqrt(torch.sum(vs[400]**2, axis=0)).cpu(), bins=bins, density=True)\n",
    "plt.plot(v,fv)\n",
    "plt.xlabel('Velocity [m/s]')\n",
    "plt.ylabel('# Particles')"
   ]
  },
  {
   "cell_type": "markdown",
   "metadata": {},
   "source": [
    "Finally, we can make an animation of the particles moving around and the histogram at the same time"
   ]
  },
  {
   "cell_type": "code",
   "execution_count": null,
   "metadata": {},
   "outputs": [],
   "source": [
    "fig, axes = plt.subplots(1, 2, figsize=(20,10))\n",
    "axes[0].clear()\n",
    "vmin = 0\n",
    "vmax = 1\n",
    "axes[0].set_xlim(0,1)\n",
    "axes[0].set_ylim(0,1)\n",
    "markersize = 2 * radius * axes[0].get_window_extent().width  / (vmax-vmin) * 72./fig.dpi\n",
    "red, = axes[0].plot([], [], 'o', color='red', markersize=markersize)\n",
    "blue, = axes[0].plot([], [], 'o', color='blue', markersize=markersize)\n",
    "n, bins, patches = axes[1].hist(torch.sqrt(torch.sum(vs[0]**2, axis=0)).cpu(), bins=bins, density=True)\n",
    "axes[1].plot(v,fv)\n",
    "axes[1].set_ylim(top=0.003)\n",
    "\n",
    "def animate(i):\n",
    "    xred, yred = rs[i][0][ixr].cpu(), rs[i][1][ixr].cpu()\n",
    "    xblue, yblue = rs[i][0][ixl].cpu(),rs[i][1][ixl].cpu()\n",
    "    red.set_data(xred, yred)\n",
    "    blue.set_data(xblue, yblue)\n",
    "    hist, _ = np.histogram(torch.sqrt(torch.sum(vs[i]**2, axis=0)).cpu(), bins=bins, density=True)\n",
    "    for i, patch in enumerate(patches):\n",
    "        patch.set_height(hist[i])\n",
    "    return red, blue\n",
    "\n",
    "writer = animation.FFMpegWriter(fps=30)\n",
    "ani = animation.FuncAnimation(fig, animate, frames=500, interval=50, blit=True)\n",
    "ani.save('ani_gpu_10000.mp4',writer=writer,dpi=100)"
   ]
  }
 ],
 "metadata": {
  "kernelspec": {
   "display_name": "Python 3",
   "language": "python",
   "name": "python3"
  },
  "language_info": {
   "codemirror_mode": {
    "name": "ipython",
    "version": 3
   },
   "file_extension": ".py",
   "mimetype": "text/x-python",
   "name": "python",
   "nbconvert_exporter": "python",
   "pygments_lexer": "ipython3",
   "version": "3.10.9"
  }
 },
 "nbformat": 4,
 "nbformat_minor": 4
}
