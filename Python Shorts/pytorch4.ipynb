{
 "cells": [
  {
   "cell_type": "code",
   "execution_count": 29,
   "id": "2a8a1e06-d13d-4e9d-a931-bb6ad01344b0",
   "metadata": {},
   "outputs": [],
   "source": [
    "import torch\n",
    "import torch.nn as nn\n",
    "from torch.optim import SGD\n",
    "import torch.nn.functional as F\n",
    "from torch.utils.data import Dataset, DataLoader\n",
    "import torchvision\n",
    "import numpy as np\n",
    "import matplotlib.pyplot as plt"
   ]
  },
  {
   "cell_type": "markdown",
   "id": "9ae9e702-9304-477a-9e1e-5c1f1c4e0db7",
   "metadata": {},
   "source": [
    "# Last Video"
   ]
  },
  {
   "cell_type": "markdown",
   "id": "cc6b9b99-bc41-4222-8d61-5eb8d238dc0e",
   "metadata": {},
   "source": [
    "A general \"sequential\" neural network can be expressed as\n",
    "\n",
    "$$f(x) = \\underset{i=1}{\\overset{n}{\\Huge{\\kappa}}} R_i(A_ix+b_i)$$\n",
    "\n",
    "where $$\\underset{i=1}{\\overset{n}{\\Huge{\\kappa}}}f_i(x) = f_n \\circ f_{n-1} ... \\circ f_1(x)$$ and the $A_i$ are matrices and the $b_i$ are bias vectors. Typically the $R_i$ are the same for all the layers (typically ReLU) **except** for the last layer, where $R_i$ is just is just the identity function\n",
    "\n",
    "* **Note**: In clever architectures, like convolutional neural networks, the $A_i$'s become sparse matrices (most of there parameters are fixed to equal zero)."
   ]
  },
  {
   "cell_type": "markdown",
   "id": "b28a8e7f-212b-433e-8d96-7ee01cff7457",
   "metadata": {},
   "source": [
    "# This Video\n",
    "\n",
    "Datasets and proper training"
   ]
  },
  {
   "cell_type": "markdown",
   "id": "629b2515-d284-4c9b-a43e-2786cd6b22cf",
   "metadata": {},
   "source": [
    "Download from www.di.ens.fr/~lelarge/MNIST.tar.gz"
   ]
  },
  {
   "cell_type": "code",
   "execution_count": 60,
   "id": "bfd94ce7-287f-40bf-b99f-72f72661b9c8",
   "metadata": {},
   "outputs": [],
   "source": [
    "x, y = torch.load('C:\\\\files\\\\MNIST\\\\MNIST\\\\processed\\\\training.pt')"
   ]
  },
  {
   "cell_type": "code",
   "execution_count": 61,
   "id": "6cd7d9ca-2ab0-4020-aa85-b995536cd12c",
   "metadata": {},
   "outputs": [
    {
     "data": {
      "text/plain": [
       "torch.Size([60000, 28, 28])"
      ]
     },
     "execution_count": 61,
     "metadata": {},
     "output_type": "execute_result"
    }
   ],
   "source": [
    "x.shape"
   ]
  },
  {
   "cell_type": "code",
   "execution_count": 62,
   "id": "c73ae7b5-1104-4347-ad8a-fd7e8774bac6",
   "metadata": {},
   "outputs": [
    {
     "data": {
      "text/plain": [
       "torch.Size([60000])"
      ]
     },
     "execution_count": 62,
     "metadata": {},
     "output_type": "execute_result"
    }
   ],
   "source": [
    "y.shape"
   ]
  },
  {
   "cell_type": "code",
   "execution_count": 63,
   "id": "cbf2e8f0-3fe4-4730-ba48-cac927c0dad3",
   "metadata": {},
   "outputs": [
    {
     "data": {
      "text/plain": [
       "torch.int64"
      ]
     },
     "execution_count": 63,
     "metadata": {},
     "output_type": "execute_result"
    }
   ],
   "source": [
    "y.dtype"
   ]
  },
  {
   "cell_type": "code",
   "execution_count": 64,
   "id": "613d4c68-cd7b-4507-99c7-a3e3b9eaf1ef",
   "metadata": {},
   "outputs": [
    {
     "data": {
      "image/png": "[encoded data removed]",
      "text/plain": [
       "<Figure size 432x288 with 2 Axes>"
      ]
     },
     "metadata": {
      "needs_background": "light"
     },
     "output_type": "display_data"
    }
   ],
   "source": [
    "plt.imshow(x[2].numpy())\n",
    "plt.title(f'Number is {y[2].numpy()}')\n",
    "plt.colorbar()\n",
    "plt.show()"
   ]
  },
  {
   "cell_type": "markdown",
   "id": "88483a27-ea2d-46a5-a4df-ef57c483ff0a",
   "metadata": {},
   "source": [
    "# The One Hot Encoder"
   ]
  },
  {
   "cell_type": "code",
   "execution_count": 35,
   "id": "bef96aa9-f924-431d-b053-cca1bfdc06b0",
   "metadata": {},
   "outputs": [],
   "source": [
    "x = torch.tensor([2, 4, 3, 0, 1])\n",
    "y = F.one_hot(x, num_classes=6)"
   ]
  },
  {
   "cell_type": "code",
   "execution_count": 36,
   "id": "f6e71a85-a611-4581-847a-b3d074da6ff6",
   "metadata": {},
   "outputs": [
    {
     "data": {
      "text/plain": [
       "tensor([2, 4, 3, 0, 1])"
      ]
     },
     "execution_count": 36,
     "metadata": {},
     "output_type": "execute_result"
    }
   ],
   "source": [
    "x"
   ]
  },
  {
   "cell_type": "code",
   "execution_count": 37,
   "id": "d378a006-76ec-4cdb-915b-c8878cb2523d",
   "metadata": {},
   "outputs": [
    {
     "data": {
      "text/plain": [
       "tensor([[0, 0, 1, 0, 0, 0],\n",
       "        [0, 0, 0, 0, 1, 0],\n",
       "        [0, 0, 0, 1, 0, 0],\n",
       "        [1, 0, 0, 0, 0, 0],\n",
       "        [0, 1, 0, 0, 0, 0]])"
      ]
     },
     "execution_count": 37,
     "metadata": {},
     "output_type": "execute_result"
    }
   ],
   "source": [
    "y"
   ]
  },
  {
   "cell_type": "code",
   "execution_count": 38,
   "id": "5c92391a-a3ea-4930-ac16-4312a2380f8f",
   "metadata": {},
   "outputs": [
    {
     "data": {
      "text/plain": [
       "torch.Size([5])"
      ]
     },
     "execution_count": 38,
     "metadata": {},
     "output_type": "execute_result"
    }
   ],
   "source": [
    "x.shape"
   ]
  },
  {
   "cell_type": "code",
   "execution_count": 39,
   "id": "bf8ba55e-e33c-46cc-96de-c534c6027750",
   "metadata": {},
   "outputs": [
    {
     "data": {
      "text/plain": [
       "torch.Size([5, 6])"
      ]
     },
     "execution_count": 39,
     "metadata": {},
     "output_type": "execute_result"
    }
   ],
   "source": [
    "y.shape"
   ]
  },
  {
   "cell_type": "markdown",
   "id": "3d90f1f7-ce0e-4b99-9bfd-29ab5661939e",
   "metadata": {},
   "source": [
    "# PyTorch Dataset Object"
   ]
  },
  {
   "cell_type": "code",
   "execution_count": 65,
   "id": "c19ee408-e640-4c15-b827-ca37c7416914",
   "metadata": {},
   "outputs": [],
   "source": [
    "class CTDataset(Dataset):\n",
    "    def __init__(self, filepath):\n",
    "        self.x, self.y = torch.load(filepath)\n",
    "        self.x = self.x / 255.\n",
    "        self.y = F.one_hot(self.y, num_classes=10)\n",
    "    def __len__(self): \n",
    "        return self.x.shape[0]\n",
    "    def __getitem__(self, ix): \n",
    "        return self.x[ix], self.y[ix]"
   ]
  },
  {
   "cell_type": "code",
   "execution_count": 66,
   "id": "258bf813-c9fd-4ed5-9854-048bbe7ff36e",
   "metadata": {},
   "outputs": [],
   "source": [
    "ds = CTDataset('C:\\\\files\\\\MNIST\\\\MNIST\\\\processed\\\\training.pt')"
   ]
  },
  {
   "cell_type": "code",
   "execution_count": 71,
   "id": "38ea3cbb-8c36-46bb-a728-b2decc46664d",
   "metadata": {},
   "outputs": [],
   "source": [
    "xs, ys = ds[0:4]"
   ]
  },
  {
   "cell_type": "code",
   "execution_count": 72,
   "id": "2876ac4a-c5e2-4486-aa42-c13c45048688",
   "metadata": {},
   "outputs": [
    {
     "data": {
      "text/plain": [
       "torch.Size([4, 28, 28])"
      ]
     },
     "execution_count": 72,
     "metadata": {},
     "output_type": "execute_result"
    }
   ],
   "source": [
    "xs.shape"
   ]
  },
  {
   "cell_type": "code",
   "execution_count": 73,
   "id": "25315fd4-38a6-484a-86f4-d28f57149ee1",
   "metadata": {},
   "outputs": [
    {
     "data": {
      "text/plain": [
       "torch.Size([4, 10])"
      ]
     },
     "execution_count": 73,
     "metadata": {},
     "output_type": "execute_result"
    }
   ],
   "source": [
    "ys.shape"
   ]
  },
  {
   "cell_type": "markdown",
   "id": "394b5ec1-9cb4-48c9-a7a3-bd7eeec8522d",
   "metadata": {},
   "source": [
    "# Cross Entropy Loss"
   ]
  },
  {
   "cell_type": "markdown",
   "id": "cfbb32d7-ed58-4148-b87e-38e3dd973706",
   "metadata": {},
   "source": [
    "Entropy is a measure of chaos. Suppose we know that the distribution of some variable $y$ is $p(y)$ but we take data and estimate this distribution as $q(y)$. In our case, $y$ can take on 10 different digit values, so its a discrete distribution. The cross entropy is defined as\n",
    "\n",
    "$$H(p,q) = -\\sum_{\\forall y} p(y)\\ln(q(y))$$\n",
    "\n",
    "In the continuous case, this is an integral with pdfs: $H(p,q) = -\\int_y p(y)\\ln(q(y)) dy$ **What's most important is that this function is minimized when $p$ and $q$ are the same function**."
   ]
  },
  {
   "cell_type": "code",
   "execution_count": null,
   "id": "cdf629c2-95b8-4118-8bce-2661d10be926",
   "metadata": {},
   "outputs": [],
   "source": []
  },
  {
   "cell_type": "markdown",
   "id": "6708574e-eea5-4972-84a2-615ca0cbc12a",
   "metadata": {},
   "source": [
    "## For a Single Image\n",
    "\n",
    "In our case, **for a single image**:\n",
    "\n",
    "$$H(p,q) = -\\sum_{i=0}^{9} p(i)\\ln(q(i))$$\n",
    "\n",
    "where $p(i)$ is the **true** proability that this image represents digit $i$, and $q(i)$ is our estimated probability. Note that we will need to output $10$ estimated probabilities (the $q(i)$'s) for each image (so our network output is a vector of size 10).\n",
    "\n",
    "Now in our case we know the ground truth. Suppose we know the image is the digit $j$. Then $p(j)=1$ and all the other probabilities are $0$, so:\n",
    "\n",
    "$$H(p,q) =  - \\ln(q(j)) $$\n",
    "\n",
    "## For Multiple Images\n",
    "\n",
    "In this case, consider us computing this loss over $N$ images. We sum it together:\n",
    "\n",
    "$$L(p,q) \\equiv \\sum_{n=0}^N H(p^{(n)}, q^{(n)}) = - \\sum_{n=0}^N \\ln(q(j_n))$$\n",
    "\n",
    "where $j_n$ is the digit label of the $n$th image in the batch.\n",
    "\n",
    "## How Do We Get The $q$'s?\n",
    "\n",
    "$q(j_n)$ should be *related* to a probability density function\n",
    "* Bounded between 0 and 1\n",
    "* The closer to 0, the less likely we are confident that image $n$ is image $j$\n",
    "* The closer to 1, the more likely we are confident that image $n$ is image $j$\n",
    "\n",
    "Since our neural network outputs 10 values (10 arbitrary numbers) we can normalize these numbers to be a probability density function as follows:\n",
    "\n",
    "$$q(j_n) = \\frac{\\exp{\\left(\\hat{y}_n(j_n)\\right)}}{\\sum_{j=0}^9 \\exp{\\left(\\hat{y}_n(j_n)\\right)}}$$\n",
    "\n",
    "So we can write our loss as\n",
    "\n",
    "$$L(\\hat{y}) = - \\sum_{n=0}^N \\frac{\\exp{\\left(\\hat{y}_n(j_n)\\right)}}{\\sum_{j=0}^9 \\exp{\\left(\\hat{y}_n(j_n)\\right)}}$$\n",
    "\n",
    "* $\\hat{y}_n$ is the network output for image $n$. It is a vector of length 10 (network outputs 10 numbers per image).\n",
    "* $j_n$ is the digit label of the $n$th image\n",
    "* $\\hat{y}_n(j_n)$ is a single number from the vector $\\hat{y}_n$ that is proportional to the \"confidence\" of the network that image $n$ is the digit $j_n$."
   ]
  },
  {
   "cell_type": "markdown",
   "id": "06fd6fe4-8ade-4abb-b891-c489098dd169",
   "metadata": {},
   "source": [
    "# Coding This Up"
   ]
  },
  {
   "cell_type": "code",
   "execution_count": null,
   "id": "adb0a442-3930-44ad-8ced-cfec73e9515e",
   "metadata": {},
   "outputs": [],
   "source": []
  },
  {
   "cell_type": "markdown",
   "id": "c47ba1c8-b5b8-4260-8c77-d7a631a8ac3b",
   "metadata": {},
   "source": [
    "# Training"
   ]
  },
  {
   "cell_type": "code",
   "execution_count": null,
   "id": "d7ade31e-fc82-43b6-8b6a-19672a1ae868",
   "metadata": {},
   "outputs": [],
   "source": []
  }
 ],
 "metadata": {
  "kernelspec": {
   "display_name": "Python 3 (ipykernel)",
   "language": "python",
   "name": "python3"
  },
  "language_info": {
   "codemirror_mode": {
    "name": "ipython",
    "version": 3
   },
   "file_extension": ".py",
   "mimetype": "text/x-python",
   "name": "python",
   "nbconvert_exporter": "python",
   "pygments_lexer": "ipython3",
   "version": "3.10.4"
  }
 },
 "nbformat": 4,
 "nbformat_minor": 5
}
