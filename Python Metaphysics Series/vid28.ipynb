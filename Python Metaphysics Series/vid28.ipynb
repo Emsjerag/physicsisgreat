{
 "cells": [
  {
   "cell_type": "code",
   "execution_count": 1,
   "metadata": {},
   "outputs": [],
   "source": [
    "import numpy as np\n",
    "import matplotlib.pyplot as plt\n",
    "import matplotlib\n",
    "from matplotlib import animation\n",
    "from matplotlib.animation import PillowWriter\n",
    "import scienceplots\n",
    "plt.style.use(['science', 'notebook'])\n",
    "from itertools import combinations"
   ]
  },
  {
   "cell_type": "markdown",
   "metadata": {},
   "source": [
    "Define number of particles and get random positions (between 0 and 1) for each particle"
   ]
  },
  {
   "cell_type": "code",
   "execution_count": 2,
   "metadata": {},
   "outputs": [],
   "source": [
    "n_particles = 16\n",
    "r = np.random.random((2,n_particles))\n",
    "# Color particles the start on either side\n",
    "ixr = r[0]>0.5 #right\n",
    "ixl = r[0]<=0.5 #left"
   ]
  },
  {
   "cell_type": "markdown",
   "metadata": {},
   "source": [
    "Give IDs to each particle (this will come in handy later)"
   ]
  },
  {
   "cell_type": "code",
   "execution_count": 3,
   "metadata": {},
   "outputs": [],
   "source": [
    "ids = np.arange(n_particles)"
   ]
  },
  {
   "cell_type": "code",
   "execution_count": 4,
   "metadata": {},
   "outputs": [
    {
     "data": {
      "text/plain": [
       "array([ 0,  1,  2,  3,  4,  5,  6,  7,  8,  9, 10, 11, 12, 13, 14, 15])"
      ]
     },
     "execution_count": 4,
     "metadata": {},
     "output_type": "execute_result"
    }
   ],
   "source": [
    "ids"
   ]
  },
  {
   "cell_type": "markdown",
   "metadata": {},
   "source": [
    "Plot initial configuration of particles"
   ]
  },
  {
   "cell_type": "code",
   "execution_count": 5,
   "metadata": {},
   "outputs": [
    {
     "data": {
      "text/plain": [
       "<matplotlib.collections.PathCollection at 0x1809b2702e0>"
      ]
     },
     "execution_count": 5,
     "metadata": {},
     "output_type": "execute_result"
    },
    {
     "data": {
      "image/png": "[encoded data removed]",
      "text/plain": [
       "<Figure size 500x500 with 1 Axes>"
      ]
     },
     "metadata": {},
     "output_type": "display_data"
    }
   ],
   "source": [
    "plt.figure(figsize=(5,5))\n",
    "plt.scatter(r[0][ixr],r[1][ixr], color='r', s=6)\n",
    "plt.scatter(r[0][ixl],r[1][ixl], color='b', s=6)"
   ]
  },
  {
   "cell_type": "markdown",
   "metadata": {},
   "source": [
    "Obtain the initial velocities in the gas. We'll make the particles starting on the RHS move to the left at 500m/s and on the vice versa.\n",
    "\n",
    "* **Note**: We're using the assumption that particles in a gas move at approximately 500m/s, thanks google."
   ]
  },
  {
   "cell_type": "code",
   "execution_count": 6,
   "metadata": {},
   "outputs": [],
   "source": [
    "v = np.zeros((2,n_particles))\n",
    "v[0][ixr] = -500\n",
    "v[0][ixl] = 500"
   ]
  },
  {
   "cell_type": "markdown",
   "metadata": {},
   "source": [
    "To run this simulation, we need to determine when two particles collide, and what the resulting final velocities will be.\n",
    "\n",
    "# Part 1: Distance Between all Pairs\n",
    "\n",
    "* To determine if two particles collide, we need to find the distance between **all pairs** of particles. If the distance is less than 2 times the radius of each particle, they collide. If there are $n$ particles, there are $n(n-1)/2$ pairs (combinatorics). To make this easier, we'll get pairs of particle IDs."
   ]
  },
  {
   "cell_type": "code",
   "execution_count": 7,
   "metadata": {},
   "outputs": [],
   "source": [
    "ids_pairs = np.asarray(list(combinations(ids,2)))\n",
    "#ids_pairs"
   ]
  },
  {
   "cell_type": "markdown",
   "metadata": {},
   "source": [
    "We can obtain distances between particles in a similar fashion\n",
    "\n",
    "* First get the pairs of x-positions of all particles"
   ]
  },
  {
   "cell_type": "code",
   "execution_count": 8,
   "metadata": {},
   "outputs": [
    {
     "data": {
      "text/plain": [
       "array([[0.65022732, 0.88398357],\n",
       "       [0.65022732, 0.09942001],\n",
       "       [0.65022732, 0.19261615],\n",
       "       [0.65022732, 0.80528636],\n",
       "       [0.65022732, 0.45490287],\n",
       "       [0.65022732, 0.74776047],\n",
       "       [0.65022732, 0.27893967],\n",
       "       [0.65022732, 0.38382892],\n",
       "       [0.65022732, 0.03336221],\n",
       "       [0.65022732, 0.21136625],\n",
       "       [0.65022732, 0.78130565],\n",
       "       [0.65022732, 0.42942599],\n",
       "       [0.65022732, 0.50233137],\n",
       "       [0.65022732, 0.57357851],\n",
       "       [0.65022732, 0.80904132],\n",
       "       [0.88398357, 0.09942001],\n",
       "       [0.88398357, 0.19261615],\n",
       "       [0.88398357, 0.80528636],\n",
       "       [0.88398357, 0.45490287],\n",
       "       [0.88398357, 0.74776047],\n",
       "       [0.88398357, 0.27893967],\n",
       "       [0.88398357, 0.38382892],\n",
       "       [0.88398357, 0.03336221],\n",
       "       [0.88398357, 0.21136625],\n",
       "       [0.88398357, 0.78130565],\n",
       "       [0.88398357, 0.42942599],\n",
       "       [0.88398357, 0.50233137],\n",
       "       [0.88398357, 0.57357851],\n",
       "       [0.88398357, 0.80904132],\n",
       "       [0.09942001, 0.19261615],\n",
       "       [0.09942001, 0.80528636],\n",
       "       [0.09942001, 0.45490287],\n",
       "       [0.09942001, 0.74776047],\n",
       "       [0.09942001, 0.27893967],\n",
       "       [0.09942001, 0.38382892],\n",
       "       [0.09942001, 0.03336221],\n",
       "       [0.09942001, 0.21136625],\n",
       "       [0.09942001, 0.78130565],\n",
       "       [0.09942001, 0.42942599],\n",
       "       [0.09942001, 0.50233137],\n",
       "       [0.09942001, 0.57357851],\n",
       "       [0.09942001, 0.80904132],\n",
       "       [0.19261615, 0.80528636],\n",
       "       [0.19261615, 0.45490287],\n",
       "       [0.19261615, 0.74776047],\n",
       "       [0.19261615, 0.27893967],\n",
       "       [0.19261615, 0.38382892],\n",
       "       [0.19261615, 0.03336221],\n",
       "       [0.19261615, 0.21136625],\n",
       "       [0.19261615, 0.78130565],\n",
       "       [0.19261615, 0.42942599],\n",
       "       [0.19261615, 0.50233137],\n",
       "       [0.19261615, 0.57357851],\n",
       "       [0.19261615, 0.80904132],\n",
       "       [0.80528636, 0.45490287],\n",
       "       [0.80528636, 0.74776047],\n",
       "       [0.80528636, 0.27893967],\n",
       "       [0.80528636, 0.38382892],\n",
       "       [0.80528636, 0.03336221],\n",
       "       [0.80528636, 0.21136625],\n",
       "       [0.80528636, 0.78130565],\n",
       "       [0.80528636, 0.42942599],\n",
       "       [0.80528636, 0.50233137],\n",
       "       [0.80528636, 0.57357851],\n",
       "       [0.80528636, 0.80904132],\n",
       "       [0.45490287, 0.74776047],\n",
       "       [0.45490287, 0.27893967],\n",
       "       [0.45490287, 0.38382892],\n",
       "       [0.45490287, 0.03336221],\n",
       "       [0.45490287, 0.21136625],\n",
       "       [0.45490287, 0.78130565],\n",
       "       [0.45490287, 0.42942599],\n",
       "       [0.45490287, 0.50233137],\n",
       "       [0.45490287, 0.57357851],\n",
       "       [0.45490287, 0.80904132],\n",
       "       [0.74776047, 0.27893967],\n",
       "       [0.74776047, 0.38382892],\n",
       "       [0.74776047, 0.03336221],\n",
       "       [0.74776047, 0.21136625],\n",
       "       [0.74776047, 0.78130565],\n",
       "       [0.74776047, 0.42942599],\n",
       "       [0.74776047, 0.50233137],\n",
       "       [0.74776047, 0.57357851],\n",
       "       [0.74776047, 0.80904132],\n",
       "       [0.27893967, 0.38382892],\n",
       "       [0.27893967, 0.03336221],\n",
       "       [0.27893967, 0.21136625],\n",
       "       [0.27893967, 0.78130565],\n",
       "       [0.27893967, 0.42942599],\n",
       "       [0.27893967, 0.50233137],\n",
       "       [0.27893967, 0.57357851],\n",
       "       [0.27893967, 0.80904132],\n",
       "       [0.38382892, 0.03336221],\n",
       "       [0.38382892, 0.21136625],\n",
       "       [0.38382892, 0.78130565],\n",
       "       [0.38382892, 0.42942599],\n",
       "       [0.38382892, 0.50233137],\n",
       "       [0.38382892, 0.57357851],\n",
       "       [0.38382892, 0.80904132],\n",
       "       [0.03336221, 0.21136625],\n",
       "       [0.03336221, 0.78130565],\n",
       "       [0.03336221, 0.42942599],\n",
       "       [0.03336221, 0.50233137],\n",
       "       [0.03336221, 0.57357851],\n",
       "       [0.03336221, 0.80904132],\n",
       "       [0.21136625, 0.78130565],\n",
       "       [0.21136625, 0.42942599],\n",
       "       [0.21136625, 0.50233137],\n",
       "       [0.21136625, 0.57357851],\n",
       "       [0.21136625, 0.80904132],\n",
       "       [0.78130565, 0.42942599],\n",
       "       [0.78130565, 0.50233137],\n",
       "       [0.78130565, 0.57357851],\n",
       "       [0.78130565, 0.80904132],\n",
       "       [0.42942599, 0.50233137],\n",
       "       [0.42942599, 0.57357851],\n",
       "       [0.42942599, 0.80904132],\n",
       "       [0.50233137, 0.57357851],\n",
       "       [0.50233137, 0.80904132],\n",
       "       [0.57357851, 0.80904132]])"
      ]
     },
     "execution_count": 8,
     "metadata": {},
     "output_type": "execute_result"
    }
   ],
   "source": [
    "x_pairs = np.asarray(list(combinations(r[0],2)))\n",
    "x_pairs"
   ]
  },
  {
   "cell_type": "markdown",
   "metadata": {},
   "source": [
    "* Then take the difference to get $\\Delta x_{ij}$ of all pairs"
   ]
  },
  {
   "cell_type": "code",
   "execution_count": 9,
   "metadata": {},
   "outputs": [
    {
     "data": {
      "text/plain": [
       "array([ 0.23375625, -0.55080731, -0.45761117,  0.15505905, -0.19532445,\n",
       "        0.09753315, -0.37128765, -0.2663984 , -0.61686511, -0.43886107,\n",
       "        0.13107833, -0.22080132, -0.14789595, -0.07664881,  0.158814  ,\n",
       "       -0.78456357, -0.69136742, -0.07869721, -0.4290807 , -0.1362231 ,\n",
       "       -0.60504391, -0.50015465, -0.85062136, -0.67261732, -0.10267792,\n",
       "       -0.45455758, -0.38165221, -0.31040507, -0.07494226,  0.09319614,\n",
       "        0.70586636,  0.35548286,  0.64834047,  0.17951966,  0.28440892,\n",
       "       -0.0660578 ,  0.11194625,  0.68188564,  0.33000599,  0.40291136,\n",
       "        0.4741585 ,  0.70962131,  0.61267022,  0.26228672,  0.55514432,\n",
       "        0.08632352,  0.19121278, -0.15925394,  0.0187501 ,  0.5886895 ,\n",
       "        0.23680985,  0.30971522,  0.38096236,  0.61642517, -0.35038349,\n",
       "       -0.05752589, -0.5263467 , -0.42145744, -0.77192415, -0.59392011,\n",
       "       -0.02398071, -0.37586037, -0.302955  , -0.23170786,  0.00375495,\n",
       "        0.2928576 , -0.17596321, -0.07107395, -0.42154066, -0.24353662,\n",
       "        0.32640278, -0.02547688,  0.04742849,  0.11867563,  0.35413844,\n",
       "       -0.46882081, -0.36393155, -0.71439826, -0.53639422,  0.03354518,\n",
       "       -0.31833448, -0.24542911, -0.17418197,  0.06128084,  0.10488926,\n",
       "       -0.24557746, -0.06757341,  0.50236599,  0.15048633,  0.2233917 ,\n",
       "        0.29463884,  0.53010165, -0.35046671, -0.17246267,  0.39747673,\n",
       "        0.04559707,  0.11850244,  0.18974958,  0.42521239,  0.17800404,\n",
       "        0.74794344,  0.39606378,  0.46896916,  0.5402163 ,  0.77567911,\n",
       "        0.5699394 ,  0.21805974,  0.29096511,  0.36221225,  0.59767506,\n",
       "       -0.35187966, -0.27897429, -0.20772715,  0.02773566,  0.07290537,\n",
       "        0.14415251,  0.37961532,  0.07124714,  0.30670995,  0.23546281])"
      ]
     },
     "execution_count": 9,
     "metadata": {},
     "output_type": "execute_result"
    }
   ],
   "source": [
    "dx_pairs = np.diff(x_pairs, axis=1).ravel()\n",
    "dx_pairs"
   ]
  },
  {
   "cell_type": "markdown",
   "metadata": {},
   "source": [
    "The total distance is just $d_{ij}= \\sqrt{\\Delta x_{ij}^2 + \\Delta y_{ij}^2}$. Since there are $n(n-1)/2$ pairs, there will be $n(n-1)/2$ different values of $d_{ij}$."
   ]
  },
  {
   "cell_type": "code",
   "execution_count": 10,
   "metadata": {},
   "outputs": [
    {
     "data": {
      "text/plain": [
       "array([0.35740362, 0.65518499, 0.46274079, 0.38120309, 0.43775053,\n",
       "       0.25561244, 0.37222813, 0.27010557, 0.69818544, 0.45314677,\n",
       "       0.18033313, 0.50634524, 0.20043391, 0.3907229 , 0.25020908,\n",
       "       1.00317459, 0.7700379 , 0.62358928, 0.78899416, 0.14042347,\n",
       "       0.65236044, 0.59106152, 0.85250606, 0.77413936, 0.40736286,\n",
       "       0.49087743, 0.40485253, 0.7234665 , 0.10746035, 0.30088128,\n",
       "       0.70589676, 0.35739946, 0.87732865, 0.42138964, 0.42084481,\n",
       "       0.68500376, 0.2665558 , 0.71993311, 0.87507171, 0.63443632,\n",
       "       0.4750045 , 0.89667149, 0.6734263 , 0.41611781, 0.63340342,\n",
       "       0.12847537, 0.19272713, 0.4265699 , 0.04798937, 0.59126612,\n",
       "       0.57536934, 0.37085737, 0.4939564 , 0.66981588, 0.35307532,\n",
       "       0.58733908, 0.64608829, 0.51944827, 1.02559353, 0.63885378,\n",
       "       0.22567103, 0.88743476, 0.57059159, 0.23431981, 0.54160108,\n",
       "       0.69295598, 0.45371255, 0.35436097, 0.8332669 , 0.37024328,\n",
       "       0.42227224, 0.84780716, 0.52916669, 0.11898875, 0.68392992,\n",
       "       0.5136355 , 0.45971117, 0.72013845, 0.64002341, 0.36168087,\n",
       "       0.38661406, 0.26539624, 0.64342896, 0.0748203 , 0.12668286,\n",
       "       0.38814034, 0.15484998, 0.52436565, 0.45483933, 0.24849371,\n",
       "       0.50454266, 0.55575554, 0.51080754, 0.18549002, 0.40530056,\n",
       "       0.50233781, 0.21540305, 0.38808502, 0.4872603 , 0.47455165,\n",
       "       0.87332676, 0.41643392, 0.50665124, 0.89226918, 0.7871125 ,\n",
       "       0.57004485, 0.60893425, 0.38242145, 0.45191898, 0.67155995,\n",
       "       0.67798053, 0.38075463, 0.33223162, 0.3184051 , 0.32857762,\n",
       "       0.85109443, 0.46143254, 0.52328345, 0.31215816, 0.62271061])"
      ]
     },
     "execution_count": 10,
     "metadata": {},
     "output_type": "execute_result"
    }
   ],
   "source": [
    "x_pairs = np.asarray(list(combinations(r[0],2)))\n",
    "y_pairs = np.asarray(list(combinations(r[1],2)))\n",
    "dx_pairs = np.diff(x_pairs, axis=1).ravel()\n",
    "dy_pairs = np.diff(y_pairs, axis=1).ravel()\n",
    "d_pairs = np.sqrt(dx_pairs**2 + dy_pairs**2)\n",
    "d_pairs"
   ]
  },
  {
   "cell_type": "markdown",
   "metadata": {},
   "source": [
    "# Part 2: Velocities of a Collision"
   ]
  },
  {
   "cell_type": "markdown",
   "metadata": {},
   "source": [
    "So at each iteration of the simulation, we will evaluate `d_pairs`, and if any of the distances between particles is less than $2r$, then a collision occurs. What is the final velocity of each of the two spheres? In an elastic collision (conservation of energy + momentum + angular momentum), one can show\n",
    "\n",
    "$$\\vec{v}_1^{\\text{new}} = \\vec{v}_1 - \\frac{(\\vec{v}_1 - \\vec{v}_2) \\cdot (\\vec{r}_1 - \\vec{r}_2)}{|\\vec{r}_1 - \\vec{r}_2|^2} (\\vec{r}_1 - \\vec{r}_2)$$\n",
    "$$\\vec{v}_2^{\\text{new}} = \\vec{v}_2 - \\frac{(\\vec{v}_2 - \\vec{v}_1) \\cdot (\\vec{r}_2 - \\vec{r}_1)}{|\\vec{r}_1 - \\vec{r}_2|^2} (\\vec{r}_2 - \\vec{r}_1)$$"
   ]
  },
  {
   "cell_type": "code",
   "execution_count": 11,
   "metadata": {},
   "outputs": [
    {
     "data": {
      "text/plain": [
       "array([[ 1, 15],\n",
       "       [ 3, 10],\n",
       "       [ 5, 14],\n",
       "       [ 6, 15]])"
      ]
     },
     "execution_count": 11,
     "metadata": {},
     "output_type": "execute_result"
    }
   ],
   "source": [
    "radius = 0.06\n",
    "ids_pairs_collide = ids_pairs[d_pairs < 2*radius]\n",
    "ids_pairs_collide"
   ]
  },
  {
   "cell_type": "markdown",
   "metadata": {},
   "source": [
    "We will call all the particles in the left column \"1\" and the right column \"2\""
   ]
  },
  {
   "cell_type": "code",
   "execution_count": 12,
   "metadata": {},
   "outputs": [],
   "source": [
    "v1 = v[:,ids_pairs_collide[:,0]]\n",
    "v2 = v[:,ids_pairs_collide[:,1]]\n",
    "r1 = r[:,ids_pairs_collide[:,0]]\n",
    "r2 = r[:,ids_pairs_collide[:,1]]"
   ]
  },
  {
   "cell_type": "markdown",
   "metadata": {},
   "source": [
    "Then we can compute the new velocity:"
   ]
  },
  {
   "cell_type": "code",
   "execution_count": 13,
   "metadata": {},
   "outputs": [],
   "source": [
    "v1new = v1 - np.diag((v1-v2).T@(r1-r2))/np.sum((r1-r2)**2, axis=0) * (r1-r2)\n",
    "v2new = v2 - np.diag((v2-v1).T@(r2-r1))/np.sum((r2-r1)**2, axis=0) * (r2-r1)"
   ]
  },
  {
   "cell_type": "markdown",
   "metadata": {},
   "source": [
    "# Part 3: Functions to Run the Simulation"
   ]
  },
  {
   "cell_type": "markdown",
   "metadata": {},
   "source": [
    "Here we define some functions that will help make running the simulation easier."
   ]
  },
  {
   "cell_type": "code",
   "execution_count": 14,
   "metadata": {},
   "outputs": [],
   "source": [
    "def get_delta_pairs(x):\n",
    "    return np.diff(np.asarray(list(combinations(x,2))), axis=1).ravel()\n",
    "\n",
    "def get_deltad_pairs(r):\n",
    "    return np.sqrt(get_delta_pairs(r[0])**2 + get_delta_pairs(r[1])**2)\n",
    "\n",
    "def compute_new_v(v1, v2, r1, r2):\n",
    "    v1new = v1 - np.diag((v1-v2).T@(r1-r2))/np.sum((r1-r2)**2, axis=0) * (r1-r2)\n",
    "    v2new = v2 - np.diag((v2-v1).T@(r2-r1))/np.sum((r2-r1)**2, axis=0) * (r2-r1)\n",
    "    return v1new, v2new\n",
    "\n",
    "def motion(r, v, id_pairs, ts, dt, d_cutoff):\n",
    "    rs = np.zeros((ts, r.shape[0], r.shape[1]))\n",
    "    vs = np.zeros((ts, v.shape[0], v.shape[1]))\n",
    "    # Initial State\n",
    "    rs[0] = r.copy()\n",
    "    vs[0] = v.copy()\n",
    "    for i in range(1,ts):\n",
    "        ic = id_pairs[get_deltad_pairs(r) < d_cutoff]\n",
    "        v[:,ic[:,0]], v[:,ic[:,1]] = compute_new_v(v[:,ic[:,0]], v[:,ic[:,1]], r[:,ic[:,0]], r[:,ic[:,1]])\n",
    "        \n",
    "        v[0,r[0]>1] = -np.abs(v[0,r[0]>1])\n",
    "        v[0,r[0]<0] = np.abs(v[0,r[0]<0])\n",
    "        v[1,r[1]>1] = -np.abs(v[1,r[1]>1])\n",
    "        v[1,r[1]<0] = np.abs(v[1,r[1]<0])\n",
    "        \n",
    "        r = r + v*dt\n",
    "        rs[i] = r.copy()\n",
    "        vs[i] = v.copy()\n",
    "    return rs, vs"
   ]
  },
  {
   "cell_type": "markdown",
   "metadata": {},
   "source": [
    "Set the radius and find the position of all particles as a function of time (3D array `rs` where each axis is $(t,x,y)$)."
   ]
  },
  {
   "cell_type": "code",
   "execution_count": 15,
   "metadata": {},
   "outputs": [],
   "source": [
    "radius = 0.03\n",
    "rs, vs = motion(r, v, ids_pairs, ts=1000, dt=0.000008, d_cutoff=2*radius)"
   ]
  },
  {
   "cell_type": "markdown",
   "metadata": {},
   "source": [
    "Plot red and blue circles, making sure each is the correct size."
   ]
  },
  {
   "cell_type": "code",
   "execution_count": 16,
   "metadata": {},
   "outputs": [
    {
     "data": {
      "image/png": "[encoded data removed]",
      "text/plain": [
       "<Figure size 500x500 with 1 Axes>"
      ]
     },
     "metadata": {},
     "output_type": "display_data"
    }
   ],
   "source": [
    "fig, ax = plt.subplots(1,1,figsize=(5,5))\n",
    "xred, yred = rs[0][0][ixr], rs[0][1][ixr]\n",
    "xblue, yblue = rs[0][0][ixl],rs[0][1][ixl]\n",
    "circles_red = [plt.Circle((xi, yi), radius=radius, linewidth=0) for xi,yi in zip(xred,yred)]\n",
    "circles_blue = [plt.Circle((xi, yi), radius=radius, linewidth=0) for xi,yi in zip(xblue,yblue)]\n",
    "cred = matplotlib.collections.PatchCollection(circles_red, facecolors='red')\n",
    "cblue = matplotlib.collections.PatchCollection(circles_blue, facecolors='blue')\n",
    "ax.add_collection(cred)\n",
    "ax.add_collection(cblue)\n",
    "ax.set_xlim(0,1)\n",
    "ax.set_ylim(0,1)\n",
    "plt.show()"
   ]
  },
  {
   "cell_type": "markdown",
   "metadata": {},
   "source": [
    "Make initial animation of the simulation"
   ]
  },
  {
   "cell_type": "code",
   "execution_count": 17,
   "metadata": {},
   "outputs": [
    {
     "data": {
      "image/png": "[encoded data removed]",
      "text/plain": [
       "<Figure size 500x500 with 1 Axes>"
      ]
     },
     "metadata": {},
     "output_type": "display_data"
    }
   ],
   "source": [
    "fig, ax = plt.subplots(1,1,figsize=(5,5))\n",
    "\n",
    "def animate(i):\n",
    "    ax.clear()\n",
    "    xred, yred = rs[i][0][ixr], rs[i][1][ixr]\n",
    "    xblue, yblue = rs[i][0][ixl],rs[i][1][ixl]\n",
    "    circles_red = [plt.Circle((xi, yi), radius=radius, linewidth=0) for xi,yi in zip(xred,yred)]\n",
    "    circles_blue = [plt.Circle((xi, yi), radius=radius, linewidth=0) for xi,yi in zip(xblue,yblue)]\n",
    "    cred = matplotlib.collections.PatchCollection(circles_red, facecolors='red')\n",
    "    cblue = matplotlib.collections.PatchCollection(circles_blue, facecolors='blue')\n",
    "    ax.add_collection(cred)\n",
    "    ax.add_collection(cblue)\n",
    "    ax.set_xlim(0,1)\n",
    "    ax.set_ylim(0,1)\n",
    "    \n",
    "ani = animation.FuncAnimation(fig, animate, frames=500, interval=50)\n",
    "ani.save('ani3.gif',writer='pillow',fps=30,dpi=100)"
   ]
  },
  {
   "cell_type": "markdown",
   "metadata": {},
   "source": [
    "Now that we're sure that it works, lets make a simulation containing many more particles"
   ]
  },
  {
   "cell_type": "code",
   "execution_count": 18,
   "metadata": {},
   "outputs": [],
   "source": [
    "n_particles = 400\n",
    "r = np.random.random((2,n_particles))\n",
    "ixr = r[0]>0.5 \n",
    "ixl = r[0]<=0.5 \n",
    "ids = np.arange(n_particles)\n",
    "ids_pairs = np.asarray(list(combinations(ids,2)))\n",
    "v = np.zeros((2,n_particles))\n",
    "v[0][ixr] = -500\n",
    "v[0][ixl] = 500\n",
    "radius = 0.0015\n",
    "rs, vs = motion(r, v, ids_pairs, ts=1000, dt=0.000008, d_cutoff=2*radius)"
   ]
  },
  {
   "cell_type": "markdown",
   "metadata": {},
   "source": [
    "Let's look at the final velocity distribution of the particles and compare it to Maxwell-Boltzmann in 2 Dimensions:\n",
    "\n",
    "* $kT = KE_{avg} = \\frac{1}{2}m\\bar{v^2} \\implies \\boxed{\\frac{m}{kT} = \\frac{2}{\\bar{v^2}}}$\n",
    "* $\\boxed{f(v) = \\frac{m}{kT} v \\exp\\left(-\\frac{m}{kT}\\frac{v^2}{2} \\right)}$"
   ]
  },
  {
   "cell_type": "code",
   "execution_count": 19,
   "metadata": {},
   "outputs": [],
   "source": [
    "v = np.linspace(0, 2000, 1000)\n",
    "a = 2/500**2\n",
    "fv = a*v*np.exp(-a*v**2 / 2)"
   ]
  },
  {
   "cell_type": "markdown",
   "metadata": {},
   "source": [
    "Plot the final histogram next to this curve:"
   ]
  },
  {
   "cell_type": "code",
   "execution_count": 21,
   "metadata": {},
   "outputs": [
    {
     "data": {
      "text/plain": [
       "Text(0, 0.5, '# Particles')"
      ]
     },
     "execution_count": 21,
     "metadata": {},
     "output_type": "execute_result"
    },
    {
     "data": {
      "image/png": "[encoded data removed]",
      "text/plain": [
       "<Figure size 800x600 with 1 Axes>"
      ]
     },
     "metadata": {},
     "output_type": "display_data"
    }
   ],
   "source": [
    "bins = np.linspace(0,1500,50)\n",
    "plt.figure()\n",
    "plt.hist(np.sqrt(np.sum(vs[400]**2, axis=0)), bins=bins, density=True)\n",
    "plt.plot(v,fv)\n",
    "plt.xlabel('Velocity [m/s]')\n",
    "plt.ylabel('# Particles')"
   ]
  },
  {
   "cell_type": "markdown",
   "metadata": {},
   "source": [
    "Finally, we can make an animation of the particles moving around and the histogram at the same time"
   ]
  },
  {
   "cell_type": "code",
   "execution_count": null,
   "metadata": {},
   "outputs": [],
   "source": [
    "fig, axes = plt.subplots(1, 2, figsize=(20,10))\n",
    "\n",
    "def animate(i):\n",
    "    [ax.clear() for ax in axes]\n",
    "    ax = axes[0]\n",
    "    xred, yred = rs[i][0][ixr], rs[i][1][ixr]\n",
    "    xblue, yblue = rs[i][0][ixl],rs[i][1][ixl]\n",
    "    circles_red = [plt.Circle((xi, yi), radius=4*radius, linewidth=0) for xi,yi in zip(xred,yred)]\n",
    "    circles_blue = [plt.Circle((xi, yi), radius=4*radius, linewidth=0) for xi,yi in zip(xblue,yblue)]\n",
    "    cred = matplotlib.collections.PatchCollection(circles_red, facecolors='red')\n",
    "    cblue = matplotlib.collections.PatchCollection(circles_blue, facecolors='blue')\n",
    "    ax.add_collection(cred)\n",
    "    ax.add_collection(cblue)\n",
    "    ax.set_xlim(0,1)\n",
    "    ax.set_ylim(0,1)\n",
    "    ax.tick_params(axis='x', labelsize=15)\n",
    "    ax.tick_params(axis='y', labelsize=15)\n",
    "    ax = axes[1]\n",
    "    ax.hist(np.sqrt(np.sum(vs[i]**2, axis=0)), bins=bins, density=True)\n",
    "    ax.plot(v,fv)\n",
    "    ax.set_xlabel('Velocity [m/s]')\n",
    "    ax.set_ylabel('# Particles')\n",
    "    ax.set_xlim(0,1500)\n",
    "    ax.set_ylim(0,0.006)\n",
    "    ax.tick_params(axis='x', labelsize=15)\n",
    "    ax.tick_params(axis='y', labelsize=15)\n",
    "    fig.tight_layout()\n",
    "    \n",
    "    \n",
    "ani = animation.FuncAnimation(fig, animate, frames=500, interval=50)\n",
    "ani.save('ani.gif',writer='pillow',fps=30,dpi=100)"
   ]
  }
 ],
 "metadata": {
  "kernelspec": {
   "display_name": "Python 3",
   "language": "python",
   "name": "python3"
  },
  "language_info": {
   "codemirror_mode": {
    "name": "ipython",
    "version": 3
   },
   "file_extension": ".py",
   "mimetype": "text/x-python",
   "name": "python",
   "nbconvert_exporter": "python",
   "pygments_lexer": "ipython3",
   "version": "3.9.13"
  }
 },
 "nbformat": 4,
 "nbformat_minor": 4
}
